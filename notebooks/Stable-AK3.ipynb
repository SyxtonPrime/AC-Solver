{
 "cells": [
  {
   "cell_type": "code",
   "execution_count": 1,
   "metadata": {},
   "outputs": [],
   "source": [
    "from ac_solver.envs.ac_moves import ACMove\n",
    "from ac_solver.envs.utils import convert_relators_to_presentation"
   ]
  },
  {
   "cell_type": "code",
   "execution_count": 2,
   "metadata": {},
   "outputs": [
    {
     "name": "stdout",
     "output_type": "stream",
     "text": [
      "Note that the following state is AK(3): [ 1  1  1 -2 -2 -2 -2  0  0  0  0  0  0  0  0  1  2  1 -2 -1 -2  0  0  0\n",
      "  0  0  0  0  0  0]\n"
     ]
    }
   ],
   "source": [
    "relator1 = [-1,-2,1,-2,-1,2,1,-2,-2,1,2,-1,2]\n",
    "relator2 = [-2,-1,2,2,-1,-2,1,2,1,-2,-2,1]\n",
    "max_length = 15\n",
    "\n",
    "presentation = convert_relators_to_presentation(\n",
    "    relator1=relator1, \n",
    "    relator2=relator2,\n",
    "    max_relator_length=max_length,\n",
    ")\n",
    "\n",
    "sequence = [\n",
    "    9, 7, 4, 8, 11, 5, 11, 9, 3, 10, 12, 7, 7, 9, 11, 5, 3, 5, 4, 3, 12, 5, 7, 7, 1, 9, 11, \n",
    "    8, 3, 5, 10, 2, 6, 12, 9, 7, 5, 11, 10, 3, 8, 11, 9, 2, 10, 12, 5, 7, 9, 11, 1, 9, 8  \n",
    "]\n",
    "\n",
    "state, lengths = presentation, [13, 12]\n",
    "for move_id in sequence:\n",
    "    state, lengths = ACMove(move_id=move_id-1, # minus one as ACMove \n",
    "                            presentation=state,\n",
    "                            max_relator_length=15,\n",
    "                            lengths=lengths,\n",
    "                            cyclical=False\n",
    "                            )\n",
    "    \n",
    "print(f\"Note that the following state is AK(3): {state}\")"
   ]
  },
  {
   "cell_type": "code",
   "execution_count": null,
   "metadata": {},
   "outputs": [],
   "source": []
  }
 ],
 "metadata": {
  "kernelspec": {
   "display_name": "ac_env_solver-zphkDIyV-py3.9",
   "language": "python",
   "name": "python3"
  },
  "language_info": {
   "codemirror_mode": {
    "name": "ipython",
    "version": 3
   },
   "file_extension": ".py",
   "mimetype": "text/x-python",
   "name": "python",
   "nbconvert_exporter": "python",
   "pygments_lexer": "ipython3",
   "version": "3.9.16"
  }
 },
 "nbformat": 4,
 "nbformat_minor": 2
}
