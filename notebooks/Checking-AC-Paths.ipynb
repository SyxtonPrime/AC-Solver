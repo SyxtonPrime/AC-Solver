{
 "cells": [
  {
   "cell_type": "markdown",
   "metadata": {},
   "source": [
    "In this notebook, we check AC-triviality of the following two presentations mentioned in Section 4 of the paper, \n",
    "\n",
    "$$\\langle x, y \\mid x^{-1} y^3 x y^{-4} , \\ x^{-1} y^{-1} x y^{-3} x^{-1} y^{-1} \\rangle$$\n",
    "$$\\langle x, y \\mid x^{-1} y^4 x y^{-5} , \\ x^{-1} y x y^{-1} x^{-1} y^{-3} \\rangle$$\n",
    "\n",
    "We refer to these presentations as presentations # 636 and # 700 as they are listed at these numbers in [this file](https://github.com/shehper/AC-Solver/blob/main/ac_solver/search/miller_schupp/data/all_presentations.txt) containing Miller-Schupp presentations."
   ]
  },
  {
   "cell_type": "code",
   "execution_count": 1,
   "metadata": {},
   "outputs": [],
   "source": [
    "import numpy as np\n",
    "from ac_solver.envs.utils import convert_relators_to_presentation\n",
    "from ac_solver.envs.ac_moves import ACMove\n",
    "\n",
    "def check_paths_loaded_from_text_files(rel1, rel2, max_relator_length, filename, cyclical):\n",
    "    with open(filename, \"r\") as f:\n",
    "        AC_path = f.read()\n",
    "        AC_path = AC_path[1:-1].split(\",\")\n",
    "        AC_path = [int(move_id) for move_id in AC_path]\n",
    "    \n",
    "    lengths = [len(rel1), len(rel2)]\n",
    "    state = convert_relators_to_presentation(relator1=rel1, relator2=rel2, max_relator_length=max_relator_length)\n",
    "\n",
    "    max_total_length = sum(lengths)\n",
    "\n",
    "    print(f\"Checking the provided path of length {len(AC_path)}...\")\n",
    "    for move_id in AC_path:\n",
    "        state, lengths, changed = ACMove(move_id=move_id, # minus one as ACMove \n",
    "                                presentation=state,\n",
    "                                max_relator_length=max_relator_length,\n",
    "                                lengths=lengths,\n",
    "                                cyclical=cyclical,\n",
    "                                )\n",
    "        # assert changed\n",
    "        max_total_length = max(max_total_length, sum(lengths))\n",
    "            \n",
    "    assert np.count_nonzero(state) == 2 and state[0] !=0 and state[max_relator_length] !=0, \"path is incorrect\"\n",
    "    print(f\"Solved with success!\")"
   ]
  },
  {
   "cell_type": "markdown",
   "metadata": {},
   "source": [
    "#### Presentation 1"
   ]
  },
  {
   "cell_type": "markdown",
   "metadata": {},
   "source": [
    "Paths are stored in text files \"paths/AC_paths_636.txt\" and \"paths/AC_paths_636_reduced.txt\"."
   ]
  },
  {
   "cell_type": "code",
   "execution_count": 2,
   "metadata": {},
   "outputs": [
    {
     "name": "stdout",
     "output_type": "stream",
     "text": [
      "Checking the provided path of length 205...\n",
      "Solved with success!\n",
      "Checking the provided path of length 195...\n",
      "Solved with success!\n"
     ]
    }
   ],
   "source": [
    "rel1 = [-1, 2, 2, 2, 1, -2, -2, -2, -2] # 9\n",
    "rel2 = [-1, -2, 1, -2, -2, -2, -1, -2] # 8\n",
    "max_relator_length = 36\n",
    "\n",
    "check_paths_loaded_from_text_files(rel1=rel1, rel2=rel2, \n",
    "                                max_relator_length=max_relator_length, \n",
    "                                filename=\"paths/AC_path_636.txt\", \n",
    "                                cyclical=False)\n",
    "\n",
    "check_paths_loaded_from_text_files(rel1=rel1, rel2=rel2, \n",
    "                                max_relator_length=max_relator_length, \n",
    "                                filename=\"paths/AC_path_636_reduced.txt\", \n",
    "                                cyclical=False)"
   ]
  },
  {
   "cell_type": "markdown",
   "metadata": {},
   "source": [
    "#### Presentation 2"
   ]
  },
  {
   "cell_type": "markdown",
   "metadata": {},
   "source": [
    "Paths are stored in text files \"paths/AC_paths_700.txt\" and \"paths/AC_paths_700_reduced.txt\"."
   ]
  },
  {
   "cell_type": "code",
   "execution_count": 3,
   "metadata": {},
   "outputs": [
    {
     "name": "stdout",
     "output_type": "stream",
     "text": [
      "Checking the provided path of length 1085...\n",
      "Solved with success!\n",
      "Checking the provided path of length 381...\n",
      "Solved with success!\n"
     ]
    }
   ],
   "source": [
    "rel1 = [-1, 2, 2, 2, 2, 1, -2, -2, -2, -2, -2] # 11\n",
    "rel2 = [-1, 2, 1, -2, -1, -2, -2, -2] # 8\n",
    "max_relator_length = 36\n",
    "\n",
    "check_paths_loaded_from_text_files(rel1=rel1, rel2=rel2, \n",
    "                                max_relator_length=max_relator_length, \n",
    "                                filename=\"paths/AC_path_700.txt\", \n",
    "                                cyclical=False)\n",
    "\n",
    "check_paths_loaded_from_text_files(rel1=rel1, rel2=rel2, \n",
    "                                max_relator_length=max_relator_length, \n",
    "                                filename=\"paths/AC_path_700_reduced.txt\", \n",
    "                                cyclical=False)"
   ]
  },
  {
   "cell_type": "code",
   "execution_count": null,
   "metadata": {},
   "outputs": [],
   "source": []
  }
 ],
 "metadata": {
  "kernelspec": {
   "display_name": "env",
   "language": "python",
   "name": "python3"
  },
  "language_info": {
   "codemirror_mode": {
    "name": "ipython",
    "version": 3
   },
   "file_extension": ".py",
   "mimetype": "text/x-python",
   "name": "python",
   "nbconvert_exporter": "python",
   "pygments_lexer": "ipython3",
   "version": "3.11.4"
  }
 },
 "nbformat": 4,
 "nbformat_minor": 2
}
