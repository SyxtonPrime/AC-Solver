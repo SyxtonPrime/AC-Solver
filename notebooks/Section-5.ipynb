{
 "cells": [
  {
   "cell_type": "code",
   "execution_count": 1,
   "metadata": {},
   "outputs": [],
   "source": [
    "import wandb\n",
    "import numpy as np\n",
    "import plotly.graph_objects as go\n",
    "import plotly.io as pio\n",
    "pio.renderers.default = \"svg\"\n",
    "\n",
    "api = wandb.Api()\n",
    "runs = api.runs('shehper/AC-Solver-PPO')"
   ]
  },
  {
   "cell_type": "markdown",
   "metadata": {},
   "source": [
    "### Performance vs Interactions"
   ]
  },
  {
   "cell_type": "code",
   "execution_count": 2,
   "metadata": {},
   "outputs": [],
   "source": [
    "class Performance_vs_Interactions:\n",
    "    \"\"\"\n",
    "    A class to obtain performance metrics (number of solved examples or mean return) as functions of total number of environment interactions \n",
    "    across various experiments.\n",
    "\n",
    "    Attributes:\n",
    "        states_type (str): Specifies the type of states to include, either \"solved\" or \"all\". This pertains to the initial state distribution of AC Environment.\n",
    "        mean_returns_data (dict): Stores the mean returns data of runs. Keys are ids of runs, and values are mean returns. \n",
    "        num_solved_data (dict): Stores the number of solved instances data of runs.\n",
    "        optimal_lr_data (dict): Stores the optimal learning rates data of runs. It saves optimal learning rate as a function of number of environment interactions.\n",
    "\n",
    "    Methods:\n",
    "        relevant_runs: Returns a list of runs that meet the criteria relevant for this analysis.\n",
    "        _selection_criteria(run): Evaluates a run to determine if it meets all the specified conditions.\n",
    "        get_num_solved_data: Computes and returns the average number of solved instances for each run configuration.\n",
    "        get_mean_returns_data: Computes and returns the average normalized returns for each run configuration.\n",
    "        get_data(metric): Returns the aggregated data based on the specified metric ('num_solved' or 'mean_returns').\n",
    "        get_optimal_lr(metric): Computes and returns the optimal learning rate as a function of total number of environment interactions\n",
    "                                for maximizing the specified metric.\n",
    "        get_perf_vs_E(metric): Returns a tuple of sorted environment steps and the corresponding performance data.\n",
    "    \"\"\"\n",
    "    def __init__(self, states_type):\n",
    "        self.states_type=states_type\n",
    "        self.mean_returns_data = None\n",
    "        self.num_solved_data = None\n",
    "        self.optimal_lr_data = None\n",
    "    \n",
    "    @property\n",
    "    def relevant_runs(self):\n",
    "        relevant_runs = [run for run in runs if self._selection_criteria(run)]\n",
    "        print(f\"{len(relevant_runs)} found for the task!\")\n",
    "        return relevant_runs\n",
    "    \n",
    "    def _selection_criteria(self, run):\n",
    "        cfg = run.config\n",
    "        state = run.state\n",
    "        allowed_states = (\"finished\") # could also be (\"finished\", \"running\")\n",
    "        if all([cfg[\"states_type\"] == self.states_type,\n",
    "                cfg[\"anneal_lr\"] == False,\n",
    "                cfg[\"max_env_steps\"] == 200,\n",
    "                cfg[\"num_steps\"] == 200,\n",
    "                cfg[\"nodes_counts\"] == [512, 512],\n",
    "                cfg[\"total_timesteps\"] <= 8e7,\n",
    "                state in allowed_states]):\n",
    "            return True \n",
    "        else:\n",
    "            return False\n",
    "        \n",
    "    def get_num_solved_data(self):\n",
    "        self.num_solved_data = {}\n",
    "\n",
    "        for run in self.relevant_runs:\n",
    "            cfg = run.config\n",
    "            T = cfg[\"total_timesteps\"]\n",
    "            lr = cfg[\"learning_rate\"]\n",
    "            n_solved = run.summary[\"charts/solved\"]\n",
    "\n",
    "            if (T, lr) not in self.num_solved_data.keys():\n",
    "                self.num_solved_data[(T, lr)] = []\n",
    "            self.num_solved_data[(T, lr)].append(n_solved)\n",
    "\n",
    "        for k, v in self.num_solved_data.items():\n",
    "            self.num_solved_data[k] = np.mean(v)\n",
    "\n",
    "        return self.num_solved_data\n",
    "    \n",
    "    def get_mean_returns_data(self):\n",
    "        self.mean_returns_data = {}\n",
    "\n",
    "        for run in self.relevant_runs:\n",
    "            cfg = run.config\n",
    "            T = cfg[\"total_timesteps\"]\n",
    "            lr = cfg[\"learning_rate\"]\n",
    "            returns = run.summary[\"charts/normalized_returns_mean\"]\n",
    "\n",
    "            if (T, lr) not in self.mean_returns_data.keys():\n",
    "                self.mean_returns_data[(T, lr)] = []\n",
    "            self.mean_returns_data[(T, lr)].append(returns)\n",
    "\n",
    "        for k, v in self.mean_returns_data.items():\n",
    "            self.mean_returns_data[k] = np.mean(v)\n",
    "\n",
    "        return self.mean_returns_data\n",
    "\n",
    "    def get_data(self, metric=\"num_solved\"):\n",
    "        if metric == \"num_solved\":\n",
    "            return self.get_num_solved_data()\n",
    "        elif metric == \"mean_returns\":\n",
    "            return self.get_mean_returns_data()\n",
    "        else:\n",
    "            raise(\"metric must be num_solved or mean_returns\")\n",
    "\n",
    "    def get_optimal_lr(self, metric=\"num_solved\"):\n",
    "\n",
    "        self.optimal_lr_data = {}\n",
    "\n",
    "        if metric == \"num_solved\":\n",
    "            data = self.num_solved_data\n",
    "        elif metric == \"mean_returns\":\n",
    "            data = self.mean_returns_data\n",
    "\n",
    "        if data is None:\n",
    "            data = self.get_data(metric=metric)\n",
    "\n",
    "        for (T, lr), num_solved in data.items():\n",
    "            if T not in self.optimal_lr_data.keys():\n",
    "                self.optimal_lr_data[T] = (lr, num_solved)\n",
    "            else:\n",
    "                _, previous_best_num_solved = self.optimal_lr_data[T]\n",
    "                if num_solved > previous_best_num_solved:\n",
    "                    self.optimal_lr_data[T] = (lr, num_solved)\n",
    "\n",
    "        return self.optimal_lr_data\n",
    "\n",
    "    def get_perf_vs_E(self, metric=\"num_solved\"):\n",
    "        if self.optimal_lr_data is None:\n",
    "            self.optimal_lr_data = self.get_optimal_lr(metric=metric)\n",
    "\n",
    "        Es = list(self.optimal_lr_data.keys())\n",
    "        Es.sort()\n",
    "        perfs = list(self.optimal_lr_data[k][1] for k in Es)\n",
    "\n",
    "        return (Es, perfs)"
   ]
  },
  {
   "cell_type": "code",
   "execution_count": 5,
   "metadata": {},
   "outputs": [
    {
     "name": "stdout",
     "output_type": "stream",
     "text": [
      "123 found for the task!\n",
      "142 found for the task!\n"
     ]
    },
    {
     "data": {
      "image/svg+xml": [
       "<svg class=\"main-svg\" xmlns=\"http://www.w3.org/2000/svg\" xmlns:xlink=\"http://www.w3.org/1999/xlink\" width=\"1200\" height=\"900\" style=\"\" viewBox=\"0 0 1200 900\"><rect x=\"0\" y=\"0\" width=\"1200\" height=\"900\" style=\"fill: rgb(255, 255, 255); fill-opacity: 1;\"/><defs id=\"defs-f3393f\"><g class=\"clips\"><clipPath id=\"clipf3393fxyplot\" class=\"plotclip\"><rect width=\"900\" height=\"720\"/></clipPath><clipPath class=\"axesclip\" id=\"clipf3393fx\"><rect x=\"84\" y=\"0\" width=\"900\" height=\"900\"/></clipPath><clipPath class=\"axesclip\" id=\"clipf3393fy\"><rect x=\"0\" y=\"100\" width=\"1200\" height=\"720\"/></clipPath><clipPath class=\"axesclip\" id=\"clipf3393fxy\"><rect x=\"84\" y=\"100\" width=\"900\" height=\"720\"/></clipPath></g><g class=\"gradients\"/><g class=\"patterns\"/></defs><g class=\"bglayer\"><rect class=\"bg\" x=\"84\" y=\"100\" width=\"900\" height=\"720\" style=\"fill: rgb(229, 236, 246); fill-opacity: 1; stroke-width: 0;\"/></g><g class=\"layer-below\"><g class=\"imagelayer\"/><g class=\"shapelayer\"/></g><g class=\"cartesianlayer\"><g class=\"subplot xy\"><g class=\"layer-subplot\"><g class=\"shapelayer\"/><g class=\"imagelayer\"/></g><g class=\"minor-gridlayer\"><g class=\"x\"/><g class=\"y\"/></g><g class=\"gridlayer\"><g class=\"x\"><path class=\"xgrid crisp\" transform=\"translate(91.88,0)\" d=\"M0,100v720\" style=\"stroke: rgb(255, 255, 255); stroke-opacity: 1; stroke-width: 1px;\"/><path class=\"xgrid crisp\" transform=\"translate(113.45,0)\" d=\"M0,100v720\" style=\"stroke: rgb(255, 255, 255); stroke-opacity: 1; stroke-width: 1px;\"/><path class=\"xgrid crisp\" transform=\"translate(132.75,0)\" d=\"M0,100v720\" style=\"stroke: rgb(255, 255, 255); stroke-opacity: 1; stroke-width: 1px;\"/><path class=\"xgrid crisp\" transform=\"translate(259.69,0)\" d=\"M0,100v720\" style=\"stroke: rgb(255, 255, 255); stroke-opacity: 1; stroke-width: 1px;\"/><path class=\"xgrid crisp\" transform=\"translate(333.94,0)\" d=\"M0,100v720\" style=\"stroke: rgb(255, 255, 255); stroke-opacity: 1; stroke-width: 1px;\"/><path class=\"xgrid crisp\" transform=\"translate(386.63,0)\" d=\"M0,100v720\" style=\"stroke: rgb(255, 255, 255); stroke-opacity: 1; stroke-width: 1px;\"/><path class=\"xgrid crisp\" transform=\"translate(427.49,0)\" d=\"M0,100v720\" style=\"stroke: rgb(255, 255, 255); stroke-opacity: 1; stroke-width: 1px;\"/><path class=\"xgrid crisp\" transform=\"translate(460.88,0)\" d=\"M0,100v720\" style=\"stroke: rgb(255, 255, 255); stroke-opacity: 1; stroke-width: 1px;\"/><path class=\"xgrid crisp\" transform=\"translate(489.11,0)\" d=\"M0,100v720\" style=\"stroke: rgb(255, 255, 255); stroke-opacity: 1; stroke-width: 1px;\"/><path class=\"xgrid crisp\" transform=\"translate(513.5699999999999,0)\" d=\"M0,100v720\" style=\"stroke: rgb(255, 255, 255); stroke-opacity: 1; stroke-width: 1px;\"/><path class=\"xgrid crisp\" transform=\"translate(535.14,0)\" d=\"M0,100v720\" style=\"stroke: rgb(255, 255, 255); stroke-opacity: 1; stroke-width: 1px;\"/><path class=\"xgrid crisp\" transform=\"translate(554.4300000000001,0)\" d=\"M0,100v720\" style=\"stroke: rgb(255, 255, 255); stroke-opacity: 1; stroke-width: 1px;\"/><path class=\"xgrid crisp\" transform=\"translate(681.37,0)\" d=\"M0,100v720\" style=\"stroke: rgb(255, 255, 255); stroke-opacity: 1; stroke-width: 1px;\"/><path class=\"xgrid crisp\" transform=\"translate(755.63,0)\" d=\"M0,100v720\" style=\"stroke: rgb(255, 255, 255); stroke-opacity: 1; stroke-width: 1px;\"/><path class=\"xgrid crisp\" transform=\"translate(808.31,0)\" d=\"M0,100v720\" style=\"stroke: rgb(255, 255, 255); stroke-opacity: 1; stroke-width: 1px;\"/><path class=\"xgrid crisp\" transform=\"translate(849.18,0)\" d=\"M0,100v720\" style=\"stroke: rgb(255, 255, 255); stroke-opacity: 1; stroke-width: 1px;\"/><path class=\"xgrid crisp\" transform=\"translate(882.57,0)\" d=\"M0,100v720\" style=\"stroke: rgb(255, 255, 255); stroke-opacity: 1; stroke-width: 1px;\"/><path class=\"xgrid crisp\" transform=\"translate(910.8,0)\" d=\"M0,100v720\" style=\"stroke: rgb(255, 255, 255); stroke-opacity: 1; stroke-width: 1px;\"/><path class=\"xgrid crisp\" transform=\"translate(935.25,0)\" d=\"M0,100v720\" style=\"stroke: rgb(255, 255, 255); stroke-opacity: 1; stroke-width: 1px;\"/><path class=\"xgrid crisp\" transform=\"translate(956.82,0)\" d=\"M0,100v720\" style=\"stroke: rgb(255, 255, 255); stroke-opacity: 1; stroke-width: 1px;\"/><path class=\"xgrid crisp\" transform=\"translate(976.12,0)\" d=\"M0,100v720\" style=\"stroke: rgb(255, 255, 255); stroke-opacity: 1; stroke-width: 1px;\"/></g><g class=\"y\"><path class=\"ygrid crisp\" transform=\"translate(0,763.43)\" d=\"M84,0h900\" style=\"stroke: rgb(255, 255, 255); stroke-opacity: 1; stroke-width: 1px;\"/><path class=\"ygrid crisp\" transform=\"translate(0,693.29)\" d=\"M84,0h900\" style=\"stroke: rgb(255, 255, 255); stroke-opacity: 1; stroke-width: 1px;\"/><path class=\"ygrid crisp\" transform=\"translate(0,638.89)\" d=\"M84,0h900\" style=\"stroke: rgb(255, 255, 255); stroke-opacity: 1; stroke-width: 1px;\"/><path class=\"ygrid crisp\" transform=\"translate(0,594.44)\" d=\"M84,0h900\" style=\"stroke: rgb(255, 255, 255); stroke-opacity: 1; stroke-width: 1px;\"/><path class=\"ygrid crisp\" transform=\"translate(0,556.85)\" d=\"M84,0h900\" style=\"stroke: rgb(255, 255, 255); stroke-opacity: 1; stroke-width: 1px;\"/><path class=\"ygrid crisp\" transform=\"translate(0,524.3)\" d=\"M84,0h900\" style=\"stroke: rgb(255, 255, 255); stroke-opacity: 1; stroke-width: 1px;\"/><path class=\"ygrid crisp\" transform=\"translate(0,495.58)\" d=\"M84,0h900\" style=\"stroke: rgb(255, 255, 255); stroke-opacity: 1; stroke-width: 1px;\"/><path class=\"ygrid crisp\" transform=\"translate(0,469.89)\" d=\"M84,0h900\" style=\"stroke: rgb(255, 255, 255); stroke-opacity: 1; stroke-width: 1px;\"/><path class=\"ygrid crisp\" transform=\"translate(0,300.9)\" d=\"M84,0h900\" style=\"stroke: rgb(255, 255, 255); stroke-opacity: 1; stroke-width: 1px;\"/><path class=\"ygrid crisp\" transform=\"translate(0,202.04000000000002)\" d=\"M84,0h900\" style=\"stroke: rgb(255, 255, 255); stroke-opacity: 1; stroke-width: 1px;\"/><path class=\"ygrid crisp\" transform=\"translate(0,131.9)\" d=\"M84,0h900\" style=\"stroke: rgb(255, 255, 255); stroke-opacity: 1; stroke-width: 1px;\"/></g></g><g class=\"zerolinelayer\"/><path class=\"xlines-below\"/><path class=\"ylines-below\"/><g class=\"overlines-below\"/><g class=\"xaxislayer-below\"/><g class=\"yaxislayer-below\"/><g class=\"overaxes-below\"/><g class=\"plot\" transform=\"translate(84,100)\" clip-path=\"url(#clipf3393fxyplot)\"><g class=\"scatterlayer mlayer\"><g class=\"trace scatter traceda46ba\" style=\"stroke-miterlimit: 2; opacity: 1;\"><g class=\"fills\"/><g class=\"errorbars\"/><g class=\"lines\"><path class=\"js-line\" d=\"M48.75,599.46L216.55,448.86L343.49,341.54L470.43,198.88L724.31,54.23L851.25,39.75\" style=\"vector-effect: none; fill: none; stroke: rgb(99, 110, 250); stroke-opacity: 1; stroke-width: 2px; opacity: 1;\"/></g><g class=\"points\"><path class=\"point\" transform=\"translate(48.75,599.46)\" d=\"M3,0A3,3 0 1,1 0,-3A3,3 0 0,1 3,0Z\" style=\"opacity: 1; stroke-width: 0px; fill: rgb(99, 110, 250); fill-opacity: 1;\"/><path class=\"point\" transform=\"translate(216.55,448.86)\" d=\"M3,0A3,3 0 1,1 0,-3A3,3 0 0,1 3,0Z\" style=\"opacity: 1; stroke-width: 0px; fill: rgb(99, 110, 250); fill-opacity: 1;\"/><path class=\"point\" transform=\"translate(343.49,341.54)\" d=\"M3,0A3,3 0 1,1 0,-3A3,3 0 0,1 3,0Z\" style=\"opacity: 1; stroke-width: 0px; fill: rgb(99, 110, 250); fill-opacity: 1;\"/><path class=\"point\" transform=\"translate(470.43,198.88)\" d=\"M3,0A3,3 0 1,1 0,-3A3,3 0 0,1 3,0Z\" style=\"opacity: 1; stroke-width: 0px; fill: rgb(99, 110, 250); fill-opacity: 1;\"/><path class=\"point\" transform=\"translate(724.31,54.23)\" d=\"M3,0A3,3 0 1,1 0,-3A3,3 0 0,1 3,0Z\" style=\"opacity: 1; stroke-width: 0px; fill: rgb(99, 110, 250); fill-opacity: 1;\"/><path class=\"point\" transform=\"translate(851.25,39.75)\" d=\"M3,0A3,3 0 1,1 0,-3A3,3 0 0,1 3,0Z\" style=\"opacity: 1; stroke-width: 0px; fill: rgb(99, 110, 250); fill-opacity: 1;\"/></g><g class=\"text\"/></g><g class=\"trace scatter traced4729a\" style=\"stroke-miterlimit: 2; opacity: 1;\"><g class=\"fills\"/><g class=\"errorbars\"/><g class=\"lines\"><path class=\"js-line\" d=\"M48.75,680.25L216.55,398.3L343.49,375.65L470.43,314.19L724.31,83.53L851.25,74.59\" style=\"vector-effect: none; fill: none; stroke: rgb(239, 85, 59); stroke-opacity: 1; stroke-width: 2px; opacity: 1;\"/></g><g class=\"points\"><path class=\"point\" transform=\"translate(48.75,680.25)\" d=\"M3,0A3,3 0 1,1 0,-3A3,3 0 0,1 3,0Z\" style=\"opacity: 1; stroke-width: 0px; fill: rgb(239, 85, 59); fill-opacity: 1;\"/><path class=\"point\" transform=\"translate(216.55,398.3)\" d=\"M3,0A3,3 0 1,1 0,-3A3,3 0 0,1 3,0Z\" style=\"opacity: 1; stroke-width: 0px; fill: rgb(239, 85, 59); fill-opacity: 1;\"/><path class=\"point\" transform=\"translate(343.49,375.65)\" d=\"M3,0A3,3 0 1,1 0,-3A3,3 0 0,1 3,0Z\" style=\"opacity: 1; stroke-width: 0px; fill: rgb(239, 85, 59); fill-opacity: 1;\"/><path class=\"point\" transform=\"translate(470.43,314.19)\" d=\"M3,0A3,3 0 1,1 0,-3A3,3 0 0,1 3,0Z\" style=\"opacity: 1; stroke-width: 0px; fill: rgb(239, 85, 59); fill-opacity: 1;\"/><path class=\"point\" transform=\"translate(724.31,83.53)\" d=\"M3,0A3,3 0 1,1 0,-3A3,3 0 0,1 3,0Z\" style=\"opacity: 1; stroke-width: 0px; fill: rgb(239, 85, 59); fill-opacity: 1;\"/><path class=\"point\" transform=\"translate(851.25,74.59)\" d=\"M3,0A3,3 0 1,1 0,-3A3,3 0 0,1 3,0Z\" style=\"opacity: 1; stroke-width: 0px; fill: rgb(239, 85, 59); fill-opacity: 1;\"/></g><g class=\"text\"/></g></g></g><g class=\"overplot\"/><path class=\"xlines-above crisp\" d=\"M0,0\" style=\"fill: none;\"/><path class=\"ylines-above crisp\" d=\"M0,0\" style=\"fill: none;\"/><g class=\"overlines-above\"/><g class=\"xaxislayer-above\"><g class=\"xtick\"><text text-anchor=\"middle\" x=\"0\" y=\"834.5\" transform=\"translate(91.88,0)\" style=\"font-family: Helvetica; font-size: 13.5px; fill: rgb(0, 0, 0); fill-opacity: 1; white-space: pre; opacity: 1;\">8</text></g><g class=\"xtick\"><text text-anchor=\"middle\" x=\"0\" y=\"834.5\" style=\"font-family: Helvetica; font-size: 13.5px; fill: rgb(0, 0, 0); fill-opacity: 1; white-space: pre; opacity: 1;\" transform=\"translate(113.45,0)\">9</text></g><g class=\"xtick\"><text text-anchor=\"middle\" x=\"4.5\" y=\"848\" style=\"font-family: Helvetica; font-size: 18px; fill: rgb(0, 0, 0); fill-opacity: 1; white-space: pre; opacity: 1;\" transform=\"translate(132.75,0)\">1M</text></g><g class=\"xtick\"><text text-anchor=\"middle\" x=\"0\" y=\"834.5\" style=\"font-family: Helvetica; font-size: 13.5px; fill: rgb(0, 0, 0); fill-opacity: 1; white-space: pre; opacity: 1;\" transform=\"translate(259.69,0)\">2</text></g><g class=\"xtick\"><text text-anchor=\"middle\" x=\"0\" y=\"834.5\" style=\"font-family: Helvetica; font-size: 13.5px; fill: rgb(0, 0, 0); fill-opacity: 1; white-space: pre; opacity: 1;\" transform=\"translate(333.94,0)\">3</text></g><g class=\"xtick\"><text text-anchor=\"middle\" x=\"0\" y=\"834.5\" style=\"font-family: Helvetica; font-size: 13.5px; fill: rgb(0, 0, 0); fill-opacity: 1; white-space: pre; opacity: 1;\" transform=\"translate(386.63,0)\">4</text></g><g class=\"xtick\"><text text-anchor=\"middle\" x=\"0\" y=\"834.5\" style=\"font-family: Helvetica; font-size: 13.5px; fill: rgb(0, 0, 0); fill-opacity: 1; white-space: pre; opacity: 1;\" transform=\"translate(427.49,0)\">5</text></g><g class=\"xtick\"><text text-anchor=\"middle\" x=\"0\" y=\"834.5\" style=\"font-family: Helvetica; font-size: 13.5px; fill: rgb(0, 0, 0); fill-opacity: 1; white-space: pre; opacity: 1;\" transform=\"translate(460.88,0)\">6</text></g><g class=\"xtick\"><text text-anchor=\"middle\" x=\"0\" y=\"834.5\" style=\"font-family: Helvetica; font-size: 13.5px; fill: rgb(0, 0, 0); fill-opacity: 1; white-space: pre; opacity: 1;\" transform=\"translate(489.11,0)\">7</text></g><g class=\"xtick\"><text text-anchor=\"middle\" x=\"0\" y=\"834.5\" style=\"font-family: Helvetica; font-size: 13.5px; fill: rgb(0, 0, 0); fill-opacity: 1; white-space: pre; opacity: 1;\" transform=\"translate(513.5699999999999,0)\">8</text></g><g class=\"xtick\"><text text-anchor=\"middle\" x=\"0\" y=\"834.5\" style=\"font-family: Helvetica; font-size: 13.5px; fill: rgb(0, 0, 0); fill-opacity: 1; white-space: pre; opacity: 1;\" transform=\"translate(535.14,0)\">9</text></g><g class=\"xtick\"><text text-anchor=\"middle\" x=\"4.5\" y=\"848\" style=\"font-family: Helvetica; font-size: 18px; fill: rgb(0, 0, 0); fill-opacity: 1; white-space: pre; opacity: 1;\" transform=\"translate(554.4300000000001,0)\">10M</text></g><g class=\"xtick\"><text text-anchor=\"middle\" x=\"0\" y=\"834.5\" style=\"font-family: Helvetica; font-size: 13.5px; fill: rgb(0, 0, 0); fill-opacity: 1; white-space: pre; opacity: 1;\" transform=\"translate(681.37,0)\">2</text></g><g class=\"xtick\"><text text-anchor=\"middle\" x=\"0\" y=\"834.5\" style=\"font-family: Helvetica; font-size: 13.5px; fill: rgb(0, 0, 0); fill-opacity: 1; white-space: pre; opacity: 1;\" transform=\"translate(755.63,0)\">3</text></g><g class=\"xtick\"><text text-anchor=\"middle\" x=\"0\" y=\"834.5\" style=\"font-family: Helvetica; font-size: 13.5px; fill: rgb(0, 0, 0); fill-opacity: 1; white-space: pre; opacity: 1;\" transform=\"translate(808.31,0)\">4</text></g><g class=\"xtick\"><text text-anchor=\"middle\" x=\"0\" y=\"834.5\" style=\"font-family: Helvetica; font-size: 13.5px; fill: rgb(0, 0, 0); fill-opacity: 1; white-space: pre; opacity: 1;\" transform=\"translate(849.18,0)\">5</text></g><g class=\"xtick\"><text text-anchor=\"middle\" x=\"0\" y=\"834.5\" style=\"font-family: Helvetica; font-size: 13.5px; fill: rgb(0, 0, 0); fill-opacity: 1; white-space: pre; opacity: 1;\" transform=\"translate(882.57,0)\">6</text></g><g class=\"xtick\"><text text-anchor=\"middle\" x=\"0\" y=\"834.5\" style=\"font-family: Helvetica; font-size: 13.5px; fill: rgb(0, 0, 0); fill-opacity: 1; white-space: pre; opacity: 1;\" transform=\"translate(910.8,0)\">7</text></g><g class=\"xtick\"><text text-anchor=\"middle\" x=\"0\" y=\"834.5\" style=\"font-family: Helvetica; font-size: 13.5px; fill: rgb(0, 0, 0); fill-opacity: 1; white-space: pre; opacity: 1;\" transform=\"translate(935.25,0)\">8</text></g><g class=\"xtick\"><text text-anchor=\"middle\" x=\"0\" y=\"834.5\" style=\"font-family: Helvetica; font-size: 13.5px; fill: rgb(0, 0, 0); fill-opacity: 1; white-space: pre; opacity: 1;\" transform=\"translate(956.82,0)\">9</text></g><g class=\"xtick\"><text text-anchor=\"middle\" x=\"4.5\" y=\"848\" style=\"font-family: Helvetica; font-size: 18px; fill: rgb(0, 0, 0); fill-opacity: 1; white-space: pre; opacity: 1;\" transform=\"translate(976.12,0)\">100M</text></g></g><g class=\"yaxislayer-above\"><g class=\"ytick\"><text text-anchor=\"end\" x=\"83\" y=\"4.725\" transform=\"translate(0,763.43)\" style=\"font-family: Helvetica; font-size: 13.5px; fill: rgb(0, 0, 0); fill-opacity: 1; white-space: pre; opacity: 1;\">3</text></g><g class=\"ytick\"><text text-anchor=\"end\" x=\"83\" y=\"4.725\" style=\"font-family: Helvetica; font-size: 13.5px; fill: rgb(0, 0, 0); fill-opacity: 1; white-space: pre; opacity: 1;\" transform=\"translate(0,693.29)\">4</text></g><g class=\"ytick\"><text text-anchor=\"end\" x=\"83\" y=\"4.725\" style=\"font-family: Helvetica; font-size: 13.5px; fill: rgb(0, 0, 0); fill-opacity: 1; white-space: pre; opacity: 1;\" transform=\"translate(0,638.89)\">5</text></g><g class=\"ytick\"><text text-anchor=\"end\" x=\"83\" y=\"4.725\" style=\"font-family: Helvetica; font-size: 13.5px; fill: rgb(0, 0, 0); fill-opacity: 1; white-space: pre; opacity: 1;\" transform=\"translate(0,594.44)\">6</text></g><g class=\"ytick\"><text text-anchor=\"end\" x=\"83\" y=\"4.725\" style=\"font-family: Helvetica; font-size: 13.5px; fill: rgb(0, 0, 0); fill-opacity: 1; white-space: pre; opacity: 1;\" transform=\"translate(0,556.85)\">7</text></g><g class=\"ytick\"><text text-anchor=\"end\" x=\"83\" y=\"4.725\" style=\"font-family: Helvetica; font-size: 13.5px; fill: rgb(0, 0, 0); fill-opacity: 1; white-space: pre; opacity: 1;\" transform=\"translate(0,524.3)\">8</text></g><g class=\"ytick\"><text text-anchor=\"end\" x=\"83\" y=\"4.725\" style=\"font-family: Helvetica; font-size: 13.5px; fill: rgb(0, 0, 0); fill-opacity: 1; white-space: pre; opacity: 1;\" transform=\"translate(0,495.58)\">9</text></g><g class=\"ytick\"><text text-anchor=\"end\" x=\"78.5\" y=\"3.3\" style=\"font-family: Helvetica; font-size: 18px; fill: rgb(0, 0, 0); fill-opacity: 1; white-space: pre; opacity: 1;\" transform=\"translate(0,469.89)\">100</text></g><g class=\"ytick\"><text text-anchor=\"end\" x=\"83\" y=\"4.725\" style=\"font-family: Helvetica; font-size: 13.5px; fill: rgb(0, 0, 0); fill-opacity: 1; white-space: pre; opacity: 1;\" transform=\"translate(0,300.9)\">2</text></g><g class=\"ytick\"><text text-anchor=\"end\" x=\"83\" y=\"4.725\" style=\"font-family: Helvetica; font-size: 13.5px; fill: rgb(0, 0, 0); fill-opacity: 1; white-space: pre; opacity: 1;\" transform=\"translate(0,202.04000000000002)\">3</text></g><g class=\"ytick\"><text text-anchor=\"end\" x=\"83\" y=\"4.725\" style=\"font-family: Helvetica; font-size: 13.5px; fill: rgb(0, 0, 0); fill-opacity: 1; white-space: pre; opacity: 1;\" transform=\"translate(0,131.9)\">4</text></g></g><g class=\"overaxes-above\"/></g></g><g class=\"polarlayer\"/><g class=\"smithlayer\"/><g class=\"ternarylayer\"/><g class=\"geolayer\"/><g class=\"funnelarealayer\"/><g class=\"pielayer\"/><g class=\"iciclelayer\"/><g class=\"treemaplayer\"/><g class=\"sunburstlayer\"/><g class=\"glimages\"/><defs id=\"topdefs-f3393f\"><g class=\"clips\"/><clipPath id=\"legendf3393f\"><rect width=\"186\" height=\"94\" x=\"0\" y=\"0\"/></clipPath></defs><g class=\"layer-above\"><g class=\"imagelayer\"/><g class=\"shapelayer\"/></g><g class=\"infolayer\"><g class=\"legend\" pointer-events=\"all\" transform=\"translate(1002,100)\"><rect class=\"bg\" shape-rendering=\"crispEdges\" width=\"186\" height=\"94\" x=\"0\" y=\"0\" style=\"stroke: rgb(68, 68, 68); stroke-opacity: 1; fill: rgb(255, 255, 255); fill-opacity: 1; stroke-width: 0px;\"/><g class=\"scrollbox\" transform=\"\" clip-path=\"url(#legendf3393f)\"><g class=\"groups\"><g class=\"traces\" transform=\"translate(0,26)\" style=\"opacity: 1;\"><text class=\"legendtext\" text-anchor=\"start\" x=\"40\" y=\"11.7\" style=\"font-family: Arial; font-size: 30px; fill: rgb(0, 0, 0); fill-opacity: 1; white-space: pre;\">GS-solved</text><g class=\"layers\" style=\"opacity: 1;\"><g class=\"legendfill\"/><g class=\"legendlines\"><path class=\"js-line\" d=\"M5,0h30\" style=\"fill: none; stroke: rgb(99, 110, 250); stroke-opacity: 1; stroke-width: 2px;\"/></g><g class=\"legendsymbols\"><g class=\"legendpoints\"><path class=\"scatterpts\" transform=\"translate(20,0)\" d=\"M3,0A3,3 0 1,1 0,-3A3,3 0 0,1 3,0Z\" style=\"opacity: 1; stroke-width: 0px; fill: rgb(99, 110, 250); fill-opacity: 1;\"/></g></g></g><rect class=\"legendtoggle\" x=\"0\" y=\"-21\" width=\"180.0625\" height=\"42\" style=\"fill: rgb(0, 0, 0); fill-opacity: 0;\"/></g><g class=\"traces\" transform=\"translate(0,68)\" style=\"opacity: 1;\"><text class=\"legendtext\" text-anchor=\"start\" x=\"40\" y=\"11.7\" style=\"font-family: Arial; font-size: 30px; fill: rgb(0, 0, 0); fill-opacity: 1; white-space: pre;\">All</text><g class=\"layers\" style=\"opacity: 1;\"><g class=\"legendfill\"/><g class=\"legendlines\"><path class=\"js-line\" d=\"M5,0h30\" style=\"fill: none; stroke: rgb(239, 85, 59); stroke-opacity: 1; stroke-width: 2px;\"/></g><g class=\"legendsymbols\"><g class=\"legendpoints\"><path class=\"scatterpts\" transform=\"translate(20,0)\" d=\"M3,0A3,3 0 1,1 0,-3A3,3 0 0,1 3,0Z\" style=\"opacity: 1; stroke-width: 0px; fill: rgb(239, 85, 59); fill-opacity: 1;\"/></g></g></g><rect class=\"legendtoggle\" x=\"0\" y=\"-21\" width=\"180.0625\" height=\"42\" style=\"fill: rgb(0, 0, 0); fill-opacity: 0;\"/></g></g></g><rect class=\"scrollbar\" rx=\"20\" ry=\"3\" width=\"0\" height=\"0\" x=\"0\" y=\"0\" style=\"fill: rgb(128, 139, 164); fill-opacity: 1;\"/></g><g class=\"g-gtitle\"><text class=\"gtitle\" x=\"60\" y=\"50\" text-anchor=\"start\" dy=\"0em\" style=\"font-family: Arial; font-size: 40px; fill: rgb(0, 0, 0); opacity: 1; font-weight: normal; white-space: pre;\">Scaling of performance with environment interactions</text></g><g class=\"g-xtitle\"><text class=\"xtitle\" x=\"534\" y=\"887.5\" text-anchor=\"middle\" style=\"font-family: Helvetica; font-size: 30px; fill: rgb(0, 0, 0); opacity: 1; font-weight: normal; white-space: pre;\">Number of environment interactions</text></g><g class=\"g-ytitle\" transform=\"translate(14.546875,0)\"><text class=\"ytitle\" transform=\"rotate(-90,12.953125,460)\" x=\"12.953125\" y=\"460\" text-anchor=\"middle\" style=\"font-family: Helvetica; font-size: 30px; fill: rgb(0, 0, 0); opacity: 1; font-weight: normal; white-space: pre;\">Number of presentations solved by PPO</text></g></g></svg>"
      ]
     },
     "metadata": {},
     "output_type": "display_data"
    }
   ],
   "source": [
    "states_types = (\"solved\", \"all\")\n",
    "\n",
    "data_perf_vs_E = {}\n",
    "for state_type in states_types:\n",
    "    initate_class = Performance_vs_Interactions(states_type=state_type)\n",
    "    data_perf_vs_E[state_type] = initate_class.get_perf_vs_E()\n",
    "\n",
    "#### ----------- #####\n",
    "\n",
    "fig = go.Figure()\n",
    "\n",
    "def get_legend(state_type):\n",
    "    return \"GS-solved\" if state_type == \"solved\" else \"All\"\n",
    "\n",
    "for state_type in states_types:\n",
    "    x = data_perf_vs_E[state_type][0]\n",
    "    y = data_perf_vs_E[state_type][1]\n",
    "    fig.add_trace(go.Scatter(\n",
    "            x=x, y=y, mode='markers+lines', name=f\"{get_legend(state_type)}\"\n",
    "        ))\n",
    "    \n",
    "fig.update_layout(\n",
    "            title='Scaling of performance with environment interactions',\n",
    "            title_font=dict(size=40, family='Arial', color='black'),\n",
    "            xaxis=dict(type='log', \n",
    "                       title='Number of environment interactions',\n",
    "                       title_font=dict(size=30, family='Helvetica', color='black'),\n",
    "                       tickfont=dict(size=18, family='Helvetica', color='black')),\n",
    "            yaxis=dict(type='log', \n",
    "                       title='Number of presentations solved by PPO',\n",
    "                       title_font=dict(size=30, family='Helvetica', color='black'),\n",
    "                       tickfont=dict(size=18, family='Helvetica', color='black')),\n",
    "            legend=dict(\n",
    "            font=dict(size=30, family='Arial', color='black'),\n",
    "            ),\n",
    "            width=1200,\n",
    "            height=900\n",
    "        )\n",
    "# Save to PDF\n",
    "# fig.write_image(\"images/scaling_env.pdf\")\n",
    "fig.show()"
   ]
  },
  {
   "cell_type": "markdown",
   "metadata": {},
   "source": [
    "### Horizon Length vs Interactions"
   ]
  },
  {
   "cell_type": "code",
   "execution_count": 20,
   "metadata": {},
   "outputs": [],
   "source": [
    "class Horizon_vs_Interactions:\n",
    "    \"\"\" \n",
    "    A class for analyzing the relationship between training horizon (timesteps) and interactions.\n",
    "\n",
    "    Attributes:\n",
    "    -----------\n",
    "    states_type (str): The type of states used in the runs. This is a key parameter for filtering relevant runs.\n",
    "    \n",
    "    timesteps (float): The total number of environment interactions for each run. This must be either 4e7 or 1e7. \n",
    "        An assertion is made to ensure the correct value is used.\n",
    "    \n",
    "    Methods:\n",
    "    --------\n",
    "    relevant_runs():\n",
    "        Retrieves the runs relevant to this experimental setup. Requires us to specify states_type and timesteps.\n",
    "    \n",
    "    _selection_criteria(run):\n",
    "        Determines if a given run meets the criteria for inclusion based on its configuration and state.\n",
    "    \"\"\"\n",
    "\n",
    "    def __init__(self, states_type, timesteps):\n",
    "        self.states_type=states_type\n",
    "        self.timesteps=timesteps\n",
    "        assert self.timesteps in [4e7, 1e7], f\"expect timesteps to be 4e7 or 1e7, found {timesteps}\"\n",
    "    \n",
    "    @property\n",
    "    def relevant_runs(self):\n",
    "        \"\"\"Get the runs that are relevant for this class. \n",
    "        Returns dict: \n",
    "        key: (total_timesteps, learning_rate)\n",
    "        value: a list of 3 runs with different seeds\n",
    "        \"\"\"\n",
    "        relevant_runs = {}\n",
    "        total_relevant_runs = 0\n",
    "        for run in runs:\n",
    "            if self._selection_criteria(run):\n",
    "                total_relevant_runs += 1\n",
    "                max_env_steps = run.config[\"max_env_steps\"]\n",
    "                learning_rate = run.config[\"learning_rate\"]\n",
    "\n",
    "                if (max_env_steps, learning_rate) not in relevant_runs.keys():\n",
    "                    relevant_runs[(max_env_steps, learning_rate)] = []\n",
    "\n",
    "                relevant_runs[(max_env_steps, learning_rate)].append(run)\n",
    "\n",
    "        print(f\"{total_relevant_runs} runs found for the task!\")\n",
    "        return relevant_runs\n",
    "    \n",
    "    def _selection_criteria(self, run):\n",
    "        cfg = run.config\n",
    "        state = run.state\n",
    "        allowed_states = (\"finished\") # could also be (\"finished\", \"running\")\n",
    "        if all([cfg[\"num_steps\"] == 512,\n",
    "                cfg[\"states_type\"] == self.states_type,\n",
    "                cfg[\"anneal_lr\"] == False,\n",
    "                cfg[\"nodes_counts\"] == [512, 512],\n",
    "                cfg[\"total_timesteps\"] == self.timesteps,\n",
    "                state in allowed_states]):\n",
    "            return True \n",
    "        else:\n",
    "            return False\n"
   ]
  },
  {
   "cell_type": "code",
   "execution_count": 21,
   "metadata": {},
   "outputs": [],
   "source": [
    "def get_timesteps_vs_performance(run_history, n_solved):\n",
    "    \"\"\"\n",
    "    Finds the first timestep at which the performance in a run history meets or exceeds specified thresholds.\n",
    "\n",
    "    Parameters:\n",
    "    -----------\n",
    "    run_history : A list or Numpy Array representing the performance metric recorded at each timestep during a run.\n",
    "        \n",
    "    n_solved : int or list of int\n",
    "        The performance threshold(s) to check for. Can be a single integer or a list of integers. \n",
    "        The function will return the first timestep where each threshold is met or exceeded.\n",
    "\n",
    "    Returns:\n",
    "    --------\n",
    "    dict\n",
    "        A dictionary where the keys are the thresholds from `n_solved`, and the values are the corresponding\n",
    "        timesteps at which each threshold was first met or exceeded.\n",
    "    \"\"\"\n",
    "\n",
    "    if isinstance(n_solved, int):\n",
    "        n_solved = [n_solved]    \n",
    "    \n",
    "    n_solved.sort()\n",
    "\n",
    "    curr = 0\n",
    "    out = {}\n",
    "\n",
    "    for t, t_data in enumerate(run_history):\n",
    "        if t_data >= n_solved[curr]:\n",
    "            out[n_solved[curr]] = t\n",
    "            curr += 1\n",
    "            if curr == len(n_solved):\n",
    "                break\n",
    "\n",
    "    assert curr == len(n_solved), \"curr has length less than n_solved\"\n",
    "\n",
    "    assert len(out) == len(n_solved)\n",
    "\n",
    "    return out"
   ]
  },
  {
   "cell_type": "code",
   "execution_count": 25,
   "metadata": {},
   "outputs": [],
   "source": [
    "def analyze_horizon_vs_interactions(state_types, n_solved, timesteps=4e7):\n",
    "    \"\"\"\n",
    "    Analyzes the relationship between training horizon (timesteps) and interactions in a reinforcement learning setup.\n",
    "\n",
    "    Parameters:\n",
    "    -----------\n",
    "    state_types (tuple or list of str): Types of states to analyze, e.g., (\"solved\", \"all\").\n",
    "    n_solved (list of int): Performance thresholds at which we evaluate timesteps.\n",
    "    timesteps (float, optional (default=4e7)): The total number of timesteps for the analysis. Must be either 4e7 or 1e7.\n",
    "\n",
    "    Returns:\n",
    "    --------\n",
    "    new_outs (dict):\n",
    "        A nested dictionary where the outer keys are state types, and the inner keys are performance thresholds (n_solved).\n",
    "        The values are dictionaries that map horizons to the first timestep at which each performance threshold is met.\n",
    "    \"\"\"\n",
    "\n",
    "    new_outs = {}  # Dictionary to store the results for each state type\n",
    "\n",
    "    # Iterate over each state type\n",
    "    for states_type in state_types:\n",
    "        # Initialize the Horizon_vs_Interactions object for the current state type\n",
    "        horizon_vs_interactions = Horizon_vs_Interactions(states_type=states_type, timesteps=timesteps)\n",
    "        relevant_runs = horizon_vs_interactions.relevant_runs  # Get relevant runs based on selection criteria\n",
    "\n",
    "        horizons = set()  # Set to collect unique horizons\n",
    "        lrs = set()  # Set to collect unique learning rates\n",
    "\n",
    "        # Collect all unique horizons and learning rates from relevant runs\n",
    "        for (horizon, lr) in relevant_runs.keys():\n",
    "            horizons.add(horizon)\n",
    "            lrs.add(lr)\n",
    "\n",
    "        optimal_lrs = {}  # Dictionary to store the optimal learning rate for each horizon\n",
    "        for horizon in horizons:\n",
    "            optimal_lrs[horizon] = 0  # Initialize the optimal learning rate for the current horizon\n",
    "            prev_best_performance = -1  # Initialize the best performance tracker\n",
    "\n",
    "            # Find the optimal learning rate for the current horizon\n",
    "            for lr in lrs:\n",
    "                curr_runs = relevant_runs[(horizon, lr)]\n",
    "                assert len(curr_runs) == 3  # Ensure there are 3 runs for consistency\n",
    "                mean_performance = np.mean([run.summary[\"charts/solved\"] for run in curr_runs])  # Calculate mean performance\n",
    "                if mean_performance > prev_best_performance:  # Update if current performance is better\n",
    "                    prev_best_performance = mean_performance\n",
    "                    optimal_lrs[horizon] = lr  # Set the optimal learning rate for this horizon\n",
    "\n",
    "        # Get the best runs based on the optimal learning rates found\n",
    "        best_runs = {(horizon, lr): relevant_runs[(horizon, lr)] for (horizon, lr) in optimal_lrs.items()}\n",
    "        best_runs_mean_history = {(horizon, lr): [] for (horizon, lr) in best_runs.keys()}  # Initialize mean history storage\n",
    "\n",
    "        # Calculate the mean performance history for each best run\n",
    "        for (horizon, lr) in best_runs_mean_history:\n",
    "            history = []\n",
    "            for run in relevant_runs[(horizon, lr)]:\n",
    "                run_history = [row[\"charts/solved\"] for row in run.scan_history()]  # Get the solved performance history\n",
    "                history.append(run_history)\n",
    "\n",
    "            mean_history = np.array(history).mean(axis=0)  # Calculate mean history across runs\n",
    "\n",
    "            best_runs_mean_history[(horizon, lr)] = mean_history  # Store the mean history\n",
    "\n",
    "        outs = {}  # Dictionary to store the performance data for each horizon\n",
    "        for (horizon, lr) in best_runs_mean_history:\n",
    "            run_history = best_runs_mean_history[(horizon, lr)]\n",
    "            n_solved_to_steps_dict = get_timesteps_vs_performance(run_history, n_solved)  # Map performance thresholds to timesteps\n",
    "            outs[horizon] = n_solved_to_steps_dict  # Store the mapping for this horizon\n",
    "\n",
    "        # Store the output in a nested dictionary format\n",
    "        new_outs[states_type] = {}\n",
    "        for (horizon, n_solved_to_steps_dict) in outs.items():\n",
    "            for n_solved, steps in n_solved_to_steps_dict.items():\n",
    "                if n_solved not in new_outs[states_type].keys():\n",
    "                    new_outs[states_type][n_solved] = {}\n",
    "                new_outs[states_type][n_solved][horizon] = steps  # Populate the final output dictionary\n",
    "\n",
    "    return new_outs"
   ]
  },
  {
   "cell_type": "code",
   "execution_count": 26,
   "metadata": {},
   "outputs": [
    {
     "name": "stdout",
     "output_type": "stream",
     "text": [
      "90 runs found for the task!\n",
      "90 runs found for the task!\n"
     ]
    }
   ],
   "source": [
    "state_types = (\"solved\", \"all\")  # Define the types of states to analyze\n",
    "n_solved = [16, 32, 64, 96, 128, 160, 192, 224, 256]  \n",
    "new_outs = analyze_horizon_vs_interactions(state_types, n_solved)"
   ]
  },
  {
   "cell_type": "code",
   "execution_count": 27,
   "metadata": {},
   "outputs": [
    {
     "data": {
      "application/vnd.plotly.v1+json": {
       "config": {
        "plotlyServerURL": "https://plot.ly"
       },
       "data": [
        {
         "marker": {
          "size": 12,
          "symbol": "circle"
         },
         "mode": "lines+markers",
         "name": "16",
         "type": "scatter",
         "x": [
          32,
          64,
          128,
          192,
          256
         ],
         "y": [
          16,
          29,
          51,
          92,
          120
         ]
        },
        {
         "marker": {
          "size": 12,
          "symbol": "square"
         },
         "mode": "lines+markers",
         "name": "32",
         "type": "scatter",
         "x": [
          32,
          64,
          128,
          192,
          256
         ],
         "y": [
          23,
          37,
          93,
          131,
          173
         ]
        },
        {
         "marker": {
          "size": 12,
          "symbol": "diamond"
         },
         "mode": "lines+markers",
         "name": "64",
         "type": "scatter",
         "x": [
          32,
          64,
          128,
          192,
          256
         ],
         "y": [
          68,
          121,
          216,
          281,
          431
         ]
        },
        {
         "marker": {
          "size": 12,
          "symbol": "cross"
         },
         "mode": "lines+markers",
         "name": "96",
         "type": "scatter",
         "x": [
          32,
          64,
          128,
          192,
          256
         ],
         "y": [
          251,
          318,
          533,
          653,
          882
         ]
        },
        {
         "marker": {
          "size": 12,
          "symbol": "x"
         },
         "mode": "lines+markers",
         "name": "128",
         "type": "scatter",
         "x": [
          32,
          64,
          128,
          192,
          256
         ],
         "y": [
          293,
          522,
          818,
          1050,
          1251
         ]
        },
        {
         "marker": {
          "size": 12,
          "symbol": "triangle-up"
         },
         "mode": "lines+markers",
         "name": "160",
         "type": "scatter",
         "x": [
          32,
          64,
          128,
          192,
          256
         ],
         "y": [
          352,
          599,
          922,
          1268,
          1417
         ]
        },
        {
         "marker": {
          "size": 12,
          "symbol": "triangle-down"
         },
         "mode": "lines+markers",
         "name": "192",
         "type": "scatter",
         "x": [
          32,
          64,
          128,
          192,
          256
         ],
         "y": [
          475,
          694,
          1008,
          1479,
          1556
         ]
        },
        {
         "marker": {
          "size": 12,
          "symbol": "pentagon"
         },
         "mode": "lines+markers",
         "name": "224",
         "type": "scatter",
         "x": [
          32,
          64,
          128,
          192,
          256
         ],
         "y": [
          674,
          785,
          1130,
          1673,
          1669
         ]
        },
        {
         "marker": {
          "size": 12,
          "symbol": "hexagon"
         },
         "mode": "lines+markers",
         "name": "256",
         "type": "scatter",
         "x": [
          32,
          64,
          128,
          192,
          256
         ],
         "y": [
          804,
          1061,
          1363,
          1940,
          1869
         ]
        }
       ],
       "layout": {
        "height": 900,
        "legend": {
         "font": {
          "color": "black",
          "family": "Arial",
          "size": 18
         },
         "title": {
          "text": "Presentations Solved"
         }
        },
        "template": {
         "data": {
          "bar": [
           {
            "error_x": {
             "color": "#2a3f5f"
            },
            "error_y": {
             "color": "#2a3f5f"
            },
            "marker": {
             "line": {
              "color": "#E5ECF6",
              "width": 0.5
             },
             "pattern": {
              "fillmode": "overlay",
              "size": 10,
              "solidity": 0.2
             }
            },
            "type": "bar"
           }
          ],
          "barpolar": [
           {
            "marker": {
             "line": {
              "color": "#E5ECF6",
              "width": 0.5
             },
             "pattern": {
              "fillmode": "overlay",
              "size": 10,
              "solidity": 0.2
             }
            },
            "type": "barpolar"
           }
          ],
          "carpet": [
           {
            "aaxis": {
             "endlinecolor": "#2a3f5f",
             "gridcolor": "white",
             "linecolor": "white",
             "minorgridcolor": "white",
             "startlinecolor": "#2a3f5f"
            },
            "baxis": {
             "endlinecolor": "#2a3f5f",
             "gridcolor": "white",
             "linecolor": "white",
             "minorgridcolor": "white",
             "startlinecolor": "#2a3f5f"
            },
            "type": "carpet"
           }
          ],
          "choropleth": [
           {
            "colorbar": {
             "outlinewidth": 0,
             "ticks": ""
            },
            "type": "choropleth"
           }
          ],
          "contour": [
           {
            "colorbar": {
             "outlinewidth": 0,
             "ticks": ""
            },
            "colorscale": [
             [
              0,
              "#0d0887"
             ],
             [
              0.1111111111111111,
              "#46039f"
             ],
             [
              0.2222222222222222,
              "#7201a8"
             ],
             [
              0.3333333333333333,
              "#9c179e"
             ],
             [
              0.4444444444444444,
              "#bd3786"
             ],
             [
              0.5555555555555556,
              "#d8576b"
             ],
             [
              0.6666666666666666,
              "#ed7953"
             ],
             [
              0.7777777777777778,
              "#fb9f3a"
             ],
             [
              0.8888888888888888,
              "#fdca26"
             ],
             [
              1,
              "#f0f921"
             ]
            ],
            "type": "contour"
           }
          ],
          "contourcarpet": [
           {
            "colorbar": {
             "outlinewidth": 0,
             "ticks": ""
            },
            "type": "contourcarpet"
           }
          ],
          "heatmap": [
           {
            "colorbar": {
             "outlinewidth": 0,
             "ticks": ""
            },
            "colorscale": [
             [
              0,
              "#0d0887"
             ],
             [
              0.1111111111111111,
              "#46039f"
             ],
             [
              0.2222222222222222,
              "#7201a8"
             ],
             [
              0.3333333333333333,
              "#9c179e"
             ],
             [
              0.4444444444444444,
              "#bd3786"
             ],
             [
              0.5555555555555556,
              "#d8576b"
             ],
             [
              0.6666666666666666,
              "#ed7953"
             ],
             [
              0.7777777777777778,
              "#fb9f3a"
             ],
             [
              0.8888888888888888,
              "#fdca26"
             ],
             [
              1,
              "#f0f921"
             ]
            ],
            "type": "heatmap"
           }
          ],
          "heatmapgl": [
           {
            "colorbar": {
             "outlinewidth": 0,
             "ticks": ""
            },
            "colorscale": [
             [
              0,
              "#0d0887"
             ],
             [
              0.1111111111111111,
              "#46039f"
             ],
             [
              0.2222222222222222,
              "#7201a8"
             ],
             [
              0.3333333333333333,
              "#9c179e"
             ],
             [
              0.4444444444444444,
              "#bd3786"
             ],
             [
              0.5555555555555556,
              "#d8576b"
             ],
             [
              0.6666666666666666,
              "#ed7953"
             ],
             [
              0.7777777777777778,
              "#fb9f3a"
             ],
             [
              0.8888888888888888,
              "#fdca26"
             ],
             [
              1,
              "#f0f921"
             ]
            ],
            "type": "heatmapgl"
           }
          ],
          "histogram": [
           {
            "marker": {
             "pattern": {
              "fillmode": "overlay",
              "size": 10,
              "solidity": 0.2
             }
            },
            "type": "histogram"
           }
          ],
          "histogram2d": [
           {
            "colorbar": {
             "outlinewidth": 0,
             "ticks": ""
            },
            "colorscale": [
             [
              0,
              "#0d0887"
             ],
             [
              0.1111111111111111,
              "#46039f"
             ],
             [
              0.2222222222222222,
              "#7201a8"
             ],
             [
              0.3333333333333333,
              "#9c179e"
             ],
             [
              0.4444444444444444,
              "#bd3786"
             ],
             [
              0.5555555555555556,
              "#d8576b"
             ],
             [
              0.6666666666666666,
              "#ed7953"
             ],
             [
              0.7777777777777778,
              "#fb9f3a"
             ],
             [
              0.8888888888888888,
              "#fdca26"
             ],
             [
              1,
              "#f0f921"
             ]
            ],
            "type": "histogram2d"
           }
          ],
          "histogram2dcontour": [
           {
            "colorbar": {
             "outlinewidth": 0,
             "ticks": ""
            },
            "colorscale": [
             [
              0,
              "#0d0887"
             ],
             [
              0.1111111111111111,
              "#46039f"
             ],
             [
              0.2222222222222222,
              "#7201a8"
             ],
             [
              0.3333333333333333,
              "#9c179e"
             ],
             [
              0.4444444444444444,
              "#bd3786"
             ],
             [
              0.5555555555555556,
              "#d8576b"
             ],
             [
              0.6666666666666666,
              "#ed7953"
             ],
             [
              0.7777777777777778,
              "#fb9f3a"
             ],
             [
              0.8888888888888888,
              "#fdca26"
             ],
             [
              1,
              "#f0f921"
             ]
            ],
            "type": "histogram2dcontour"
           }
          ],
          "mesh3d": [
           {
            "colorbar": {
             "outlinewidth": 0,
             "ticks": ""
            },
            "type": "mesh3d"
           }
          ],
          "parcoords": [
           {
            "line": {
             "colorbar": {
              "outlinewidth": 0,
              "ticks": ""
             }
            },
            "type": "parcoords"
           }
          ],
          "pie": [
           {
            "automargin": true,
            "type": "pie"
           }
          ],
          "scatter": [
           {
            "fillpattern": {
             "fillmode": "overlay",
             "size": 10,
             "solidity": 0.2
            },
            "type": "scatter"
           }
          ],
          "scatter3d": [
           {
            "line": {
             "colorbar": {
              "outlinewidth": 0,
              "ticks": ""
             }
            },
            "marker": {
             "colorbar": {
              "outlinewidth": 0,
              "ticks": ""
             }
            },
            "type": "scatter3d"
           }
          ],
          "scattercarpet": [
           {
            "marker": {
             "colorbar": {
              "outlinewidth": 0,
              "ticks": ""
             }
            },
            "type": "scattercarpet"
           }
          ],
          "scattergeo": [
           {
            "marker": {
             "colorbar": {
              "outlinewidth": 0,
              "ticks": ""
             }
            },
            "type": "scattergeo"
           }
          ],
          "scattergl": [
           {
            "marker": {
             "colorbar": {
              "outlinewidth": 0,
              "ticks": ""
             }
            },
            "type": "scattergl"
           }
          ],
          "scattermapbox": [
           {
            "marker": {
             "colorbar": {
              "outlinewidth": 0,
              "ticks": ""
             }
            },
            "type": "scattermapbox"
           }
          ],
          "scatterpolar": [
           {
            "marker": {
             "colorbar": {
              "outlinewidth": 0,
              "ticks": ""
             }
            },
            "type": "scatterpolar"
           }
          ],
          "scatterpolargl": [
           {
            "marker": {
             "colorbar": {
              "outlinewidth": 0,
              "ticks": ""
             }
            },
            "type": "scatterpolargl"
           }
          ],
          "scatterternary": [
           {
            "marker": {
             "colorbar": {
              "outlinewidth": 0,
              "ticks": ""
             }
            },
            "type": "scatterternary"
           }
          ],
          "surface": [
           {
            "colorbar": {
             "outlinewidth": 0,
             "ticks": ""
            },
            "colorscale": [
             [
              0,
              "#0d0887"
             ],
             [
              0.1111111111111111,
              "#46039f"
             ],
             [
              0.2222222222222222,
              "#7201a8"
             ],
             [
              0.3333333333333333,
              "#9c179e"
             ],
             [
              0.4444444444444444,
              "#bd3786"
             ],
             [
              0.5555555555555556,
              "#d8576b"
             ],
             [
              0.6666666666666666,
              "#ed7953"
             ],
             [
              0.7777777777777778,
              "#fb9f3a"
             ],
             [
              0.8888888888888888,
              "#fdca26"
             ],
             [
              1,
              "#f0f921"
             ]
            ],
            "type": "surface"
           }
          ],
          "table": [
           {
            "cells": {
             "fill": {
              "color": "#EBF0F8"
             },
             "line": {
              "color": "white"
             }
            },
            "header": {
             "fill": {
              "color": "#C8D4E3"
             },
             "line": {
              "color": "white"
             }
            },
            "type": "table"
           }
          ]
         },
         "layout": {
          "annotationdefaults": {
           "arrowcolor": "#2a3f5f",
           "arrowhead": 0,
           "arrowwidth": 1
          },
          "autotypenumbers": "strict",
          "coloraxis": {
           "colorbar": {
            "outlinewidth": 0,
            "ticks": ""
           }
          },
          "colorscale": {
           "diverging": [
            [
             0,
             "#8e0152"
            ],
            [
             0.1,
             "#c51b7d"
            ],
            [
             0.2,
             "#de77ae"
            ],
            [
             0.3,
             "#f1b6da"
            ],
            [
             0.4,
             "#fde0ef"
            ],
            [
             0.5,
             "#f7f7f7"
            ],
            [
             0.6,
             "#e6f5d0"
            ],
            [
             0.7,
             "#b8e186"
            ],
            [
             0.8,
             "#7fbc41"
            ],
            [
             0.9,
             "#4d9221"
            ],
            [
             1,
             "#276419"
            ]
           ],
           "sequential": [
            [
             0,
             "#0d0887"
            ],
            [
             0.1111111111111111,
             "#46039f"
            ],
            [
             0.2222222222222222,
             "#7201a8"
            ],
            [
             0.3333333333333333,
             "#9c179e"
            ],
            [
             0.4444444444444444,
             "#bd3786"
            ],
            [
             0.5555555555555556,
             "#d8576b"
            ],
            [
             0.6666666666666666,
             "#ed7953"
            ],
            [
             0.7777777777777778,
             "#fb9f3a"
            ],
            [
             0.8888888888888888,
             "#fdca26"
            ],
            [
             1,
             "#f0f921"
            ]
           ],
           "sequentialminus": [
            [
             0,
             "#0d0887"
            ],
            [
             0.1111111111111111,
             "#46039f"
            ],
            [
             0.2222222222222222,
             "#7201a8"
            ],
            [
             0.3333333333333333,
             "#9c179e"
            ],
            [
             0.4444444444444444,
             "#bd3786"
            ],
            [
             0.5555555555555556,
             "#d8576b"
            ],
            [
             0.6666666666666666,
             "#ed7953"
            ],
            [
             0.7777777777777778,
             "#fb9f3a"
            ],
            [
             0.8888888888888888,
             "#fdca26"
            ],
            [
             1,
             "#f0f921"
            ]
           ]
          },
          "colorway": [
           "#636efa",
           "#EF553B",
           "#00cc96",
           "#ab63fa",
           "#FFA15A",
           "#19d3f3",
           "#FF6692",
           "#B6E880",
           "#FF97FF",
           "#FECB52"
          ],
          "font": {
           "color": "#2a3f5f"
          },
          "geo": {
           "bgcolor": "white",
           "lakecolor": "white",
           "landcolor": "#E5ECF6",
           "showlakes": true,
           "showland": true,
           "subunitcolor": "white"
          },
          "hoverlabel": {
           "align": "left"
          },
          "hovermode": "closest",
          "mapbox": {
           "style": "light"
          },
          "paper_bgcolor": "white",
          "plot_bgcolor": "#E5ECF6",
          "polar": {
           "angularaxis": {
            "gridcolor": "white",
            "linecolor": "white",
            "ticks": ""
           },
           "bgcolor": "#E5ECF6",
           "radialaxis": {
            "gridcolor": "white",
            "linecolor": "white",
            "ticks": ""
           }
          },
          "scene": {
           "xaxis": {
            "backgroundcolor": "#E5ECF6",
            "gridcolor": "white",
            "gridwidth": 2,
            "linecolor": "white",
            "showbackground": true,
            "ticks": "",
            "zerolinecolor": "white"
           },
           "yaxis": {
            "backgroundcolor": "#E5ECF6",
            "gridcolor": "white",
            "gridwidth": 2,
            "linecolor": "white",
            "showbackground": true,
            "ticks": "",
            "zerolinecolor": "white"
           },
           "zaxis": {
            "backgroundcolor": "#E5ECF6",
            "gridcolor": "white",
            "gridwidth": 2,
            "linecolor": "white",
            "showbackground": true,
            "ticks": "",
            "zerolinecolor": "white"
           }
          },
          "shapedefaults": {
           "line": {
            "color": "#2a3f5f"
           }
          },
          "ternary": {
           "aaxis": {
            "gridcolor": "white",
            "linecolor": "white",
            "ticks": ""
           },
           "baxis": {
            "gridcolor": "white",
            "linecolor": "white",
            "ticks": ""
           },
           "bgcolor": "#E5ECF6",
           "caxis": {
            "gridcolor": "white",
            "linecolor": "white",
            "ticks": ""
           }
          },
          "title": {
           "x": 0.05
          },
          "xaxis": {
           "automargin": true,
           "gridcolor": "white",
           "linecolor": "white",
           "ticks": "",
           "title": {
            "standoff": 15
           },
           "zerolinecolor": "white",
           "zerolinewidth": 2
          },
          "yaxis": {
           "automargin": true,
           "gridcolor": "white",
           "linecolor": "white",
           "ticks": "",
           "title": {
            "standoff": 15
           },
           "zerolinecolor": "white",
           "zerolinewidth": 2
          }
         }
        },
        "title": {
         "font": {
          "color": "black",
          "family": "Arial",
          "size": 30
         },
         "text": "Scaling of environment interactions with horizon length at fixed performance levels"
        },
        "width": 1200,
        "xaxis": {
         "tickfont": {
          "color": "black",
          "family": "Helvetica",
          "size": 18
         },
         "title": {
          "font": {
           "color": "black",
           "family": "Helvetica",
           "size": 30
          },
          "text": "Horizon Length"
         }
        },
        "yaxis": {
         "tickfont": {
          "color": "black",
          "family": "Helvetica",
          "size": 18
         },
         "title": {
          "font": {
           "color": "black",
           "family": "Helvetica",
           "size": 30
          },
          "text": "Number of Environment Interactions"
         }
        }
       }
      }
     },
     "metadata": {},
     "output_type": "display_data"
    }
   ],
   "source": [
    "import plotly.graph_objects as go\n",
    "\n",
    "# Create a scatter plot for each (k, v) pair in the dictionary using Plotly\n",
    "fig = go.Figure()\n",
    "\n",
    "marker_shapes = ['circle', 'square', 'diamond', 'cross', 'x', 'triangle-up', 'triangle-down', 'pentagon', 'hexagon']\n",
    "\n",
    "for states_type in new_outs.keys():\n",
    "    for idx, (k, v) in enumerate(new_outs[states_type].items()):\n",
    "        if k < 300 and states_type == \"all\":\n",
    "            x = list([h for h in v.keys() if h >= 32])\n",
    "            x.sort()\n",
    "            y = [v[kp] for kp in x]\n",
    "            fig.add_trace(go.Scatter(x=x, y=y, mode='lines+markers', name=f'{k}',\n",
    "                                    marker=dict(size=12, symbol=marker_shapes[idx % len(marker_shapes)])))\n",
    "\n",
    "# Add legend and labels\n",
    "fig.update_layout(\n",
    "    title='Scaling of environment interactions with horizon length at fixed performance levels',\n",
    "    title_font=dict(size=30, family='Arial', color='black'),\n",
    "    xaxis=dict(#type='log', \n",
    "                title='Horizon Length',\n",
    "                title_font=dict(size=30, family='Helvetica', color='black'),\n",
    "                tickfont=dict(size=18, family='Helvetica', color='black')),\n",
    "    yaxis=dict(#type='log', \n",
    "                title='Number of Environment Interactions',\n",
    "                title_font=dict(size=30, family='Helvetica', color='black'),\n",
    "                tickfont=dict(size=18, family='Helvetica', color='black')),\n",
    "    legend=dict(\n",
    "    font=dict(size=18, family='Arial', color='black'),\n",
    "    ),\n",
    "    legend_title='Presentations Solved',\n",
    "    # template='plotly_white',\n",
    "    width=1200,\n",
    "    height=900\n",
    ")\n",
    "\n",
    "import os\n",
    "if not os.path.exists(\"images\"):\n",
    "    os.mkdir(\"images\")\n",
    "\n",
    "# fig.write_image(\"images/env_vs_horizon.pdf\")\n",
    "fig.show()"
   ]
  }
 ],
 "metadata": {
  "kernelspec": {
   "display_name": "rlformath-zphkDIyV-py3.9",
   "language": "python",
   "name": "python3"
  },
  "language_info": {
   "codemirror_mode": {
    "name": "ipython",
    "version": 3
   },
   "file_extension": ".py",
   "mimetype": "text/x-python",
   "name": "python",
   "nbconvert_exporter": "python",
   "pygments_lexer": "ipython3",
   "version": "3.9.5"
  }
 },
 "nbformat": 4,
 "nbformat_minor": 2
}
